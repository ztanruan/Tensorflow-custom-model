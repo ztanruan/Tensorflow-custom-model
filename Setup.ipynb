{
 "cells": [
  {
   "cell_type": "code",
   "execution_count": 1,
   "id": "5f0d9fa8",
   "metadata": {},
   "outputs": [
    {
     "name": "stdout",
     "output_type": "stream",
     "text": [
      "fatal: destination path 'models' already exists and is not an empty directory.\n",
      "Requirement already satisfied: protobuf in /Users/teddys2k/anaconda3/lib/python3.8/site-packages (3.20.1)\n",
      "Requirement already satisfied: absl-py in /Users/teddys2k/anaconda3/lib/python3.8/site-packages (1.2.0)\n",
      "Requirement already satisfied: tensorflow==2.8.0 in /Users/teddys2k/anaconda3/lib/python3.8/site-packages (2.8.0)\n",
      "Requirement already satisfied: absl-py>=0.4.0 in /Users/teddys2k/anaconda3/lib/python3.8/site-packages (from tensorflow==2.8.0) (1.2.0)\n",
      "Requirement already satisfied: google-pasta>=0.1.1 in /Users/teddys2k/anaconda3/lib/python3.8/site-packages (from tensorflow==2.8.0) (0.2.0)\n",
      "Requirement already satisfied: typing-extensions>=3.6.6 in /Users/teddys2k/anaconda3/lib/python3.8/site-packages (from tensorflow==2.8.0) (3.7.4.3)\n",
      "Requirement already satisfied: keras-preprocessing>=1.1.1 in /Users/teddys2k/anaconda3/lib/python3.8/site-packages (from tensorflow==2.8.0) (1.1.2)\n",
      "Requirement already satisfied: libclang>=9.0.1 in /Users/teddys2k/anaconda3/lib/python3.8/site-packages (from tensorflow==2.8.0) (14.0.6)\n",
      "Requirement already satisfied: gast>=0.2.1 in /Users/teddys2k/anaconda3/lib/python3.8/site-packages (from tensorflow==2.8.0) (0.4.0)\n",
      "Requirement already satisfied: flatbuffers>=1.12 in /Users/teddys2k/anaconda3/lib/python3.8/site-packages (from tensorflow==2.8.0) (1.12)\n",
      "Requirement already satisfied: tensorflow-io-gcs-filesystem>=0.23.1 in /Users/teddys2k/anaconda3/lib/python3.8/site-packages (from tensorflow==2.8.0) (0.27.0)\n",
      "Requirement already satisfied: numpy>=1.20 in /Users/teddys2k/.local/lib/python3.8/site-packages (from tensorflow==2.8.0) (1.22.4)\n",
      "Requirement already satisfied: keras<2.9,>=2.8.0rc0 in /Users/teddys2k/anaconda3/lib/python3.8/site-packages (from tensorflow==2.8.0) (2.8.0)\n",
      "Requirement already satisfied: grpcio<2.0,>=1.24.3 in /Users/teddys2k/anaconda3/lib/python3.8/site-packages (from tensorflow==2.8.0) (1.48.1)\n",
      "Requirement already satisfied: wrapt>=1.11.0 in /Users/teddys2k/anaconda3/lib/python3.8/site-packages (from tensorflow==2.8.0) (1.12.1)\n",
      "Requirement already satisfied: setuptools in /Users/teddys2k/anaconda3/lib/python3.8/site-packages (from tensorflow==2.8.0) (52.0.0.post20210125)\n",
      "Requirement already satisfied: h5py>=2.9.0 in /Users/teddys2k/anaconda3/lib/python3.8/site-packages (from tensorflow==2.8.0) (2.10.0)\n",
      "Requirement already satisfied: opt-einsum>=2.3.2 in /Users/teddys2k/anaconda3/lib/python3.8/site-packages (from tensorflow==2.8.0) (3.3.0)\n",
      "Requirement already satisfied: tf-estimator-nightly==2.8.0.dev2021122109 in /Users/teddys2k/anaconda3/lib/python3.8/site-packages (from tensorflow==2.8.0) (2.8.0.dev2021122109)\n",
      "Requirement already satisfied: protobuf>=3.9.2 in /Users/teddys2k/anaconda3/lib/python3.8/site-packages (from tensorflow==2.8.0) (3.20.1)\n",
      "Requirement already satisfied: termcolor>=1.1.0 in /Users/teddys2k/anaconda3/lib/python3.8/site-packages (from tensorflow==2.8.0) (2.0.1)\n",
      "Requirement already satisfied: tensorboard<2.9,>=2.8 in /Users/teddys2k/anaconda3/lib/python3.8/site-packages (from tensorflow==2.8.0) (2.8.0)\n",
      "Requirement already satisfied: astunparse>=1.6.0 in /Users/teddys2k/anaconda3/lib/python3.8/site-packages (from tensorflow==2.8.0) (1.6.3)\n",
      "Requirement already satisfied: six>=1.12.0 in /Users/teddys2k/anaconda3/lib/python3.8/site-packages (from tensorflow==2.8.0) (1.15.0)\n",
      "Requirement already satisfied: wheel<1.0,>=0.23.0 in /Users/teddys2k/anaconda3/lib/python3.8/site-packages (from astunparse>=1.6.0->tensorflow==2.8.0) (0.36.2)\n",
      "Requirement already satisfied: werkzeug>=0.11.15 in /Users/teddys2k/anaconda3/lib/python3.8/site-packages (from tensorboard<2.9,>=2.8->tensorflow==2.8.0) (1.0.1)\n",
      "Requirement already satisfied: requests<3,>=2.21.0 in /Users/teddys2k/anaconda3/lib/python3.8/site-packages (from tensorboard<2.9,>=2.8->tensorflow==2.8.0) (2.25.1)\n",
      "Requirement already satisfied: tensorboard-plugin-wit>=1.6.0 in /Users/teddys2k/anaconda3/lib/python3.8/site-packages (from tensorboard<2.9,>=2.8->tensorflow==2.8.0) (1.8.1)\n",
      "Requirement already satisfied: google-auth<3,>=1.6.3 in /Users/teddys2k/anaconda3/lib/python3.8/site-packages (from tensorboard<2.9,>=2.8->tensorflow==2.8.0) (2.11.0)\n",
      "Requirement already satisfied: google-auth-oauthlib<0.5,>=0.4.1 in /Users/teddys2k/anaconda3/lib/python3.8/site-packages (from tensorboard<2.9,>=2.8->tensorflow==2.8.0) (0.4.6)\n",
      "Requirement already satisfied: tensorboard-data-server<0.7.0,>=0.6.0 in /Users/teddys2k/anaconda3/lib/python3.8/site-packages (from tensorboard<2.9,>=2.8->tensorflow==2.8.0) (0.6.1)\n",
      "Requirement already satisfied: markdown>=2.6.8 in /Users/teddys2k/anaconda3/lib/python3.8/site-packages (from tensorboard<2.9,>=2.8->tensorflow==2.8.0) (3.4.1)\n",
      "Requirement already satisfied: cachetools<6.0,>=2.0.0 in /Users/teddys2k/anaconda3/lib/python3.8/site-packages (from google-auth<3,>=1.6.3->tensorboard<2.9,>=2.8->tensorflow==2.8.0) (5.2.0)\n",
      "Requirement already satisfied: pyasn1-modules>=0.2.1 in /Users/teddys2k/anaconda3/lib/python3.8/site-packages (from google-auth<3,>=1.6.3->tensorboard<2.9,>=2.8->tensorflow==2.8.0) (0.2.8)\n",
      "Requirement already satisfied: rsa<5,>=3.1.4 in /Users/teddys2k/anaconda3/lib/python3.8/site-packages (from google-auth<3,>=1.6.3->tensorboard<2.9,>=2.8->tensorflow==2.8.0) (4.9)\n",
      "Requirement already satisfied: requests-oauthlib>=0.7.0 in /Users/teddys2k/anaconda3/lib/python3.8/site-packages (from google-auth-oauthlib<0.5,>=0.4.1->tensorboard<2.9,>=2.8->tensorflow==2.8.0) (1.3.1)\n",
      "Requirement already satisfied: importlib-metadata>=4.4 in /Users/teddys2k/anaconda3/lib/python3.8/site-packages (from markdown>=2.6.8->tensorboard<2.9,>=2.8->tensorflow==2.8.0) (4.12.0)\n",
      "Requirement already satisfied: zipp>=0.5 in /Users/teddys2k/anaconda3/lib/python3.8/site-packages (from importlib-metadata>=4.4->markdown>=2.6.8->tensorboard<2.9,>=2.8->tensorflow==2.8.0) (3.4.1)\n",
      "Requirement already satisfied: pyasn1<0.5.0,>=0.4.6 in /Users/teddys2k/anaconda3/lib/python3.8/site-packages (from pyasn1-modules>=0.2.1->google-auth<3,>=1.6.3->tensorboard<2.9,>=2.8->tensorflow==2.8.0) (0.4.8)\n",
      "Requirement already satisfied: urllib3<1.27,>=1.21.1 in /Users/teddys2k/anaconda3/lib/python3.8/site-packages (from requests<3,>=2.21.0->tensorboard<2.9,>=2.8->tensorflow==2.8.0) (1.26.4)\n",
      "Requirement already satisfied: certifi>=2017.4.17 in /Users/teddys2k/anaconda3/lib/python3.8/site-packages (from requests<3,>=2.21.0->tensorboard<2.9,>=2.8->tensorflow==2.8.0) (2020.12.5)\n",
      "Requirement already satisfied: chardet<5,>=3.0.2 in /Users/teddys2k/anaconda3/lib/python3.8/site-packages (from requests<3,>=2.21.0->tensorboard<2.9,>=2.8->tensorflow==2.8.0) (4.0.0)\n",
      "Requirement already satisfied: idna<3,>=2.5 in /Users/teddys2k/anaconda3/lib/python3.8/site-packages (from requests<3,>=2.21.0->tensorboard<2.9,>=2.8->tensorflow==2.8.0) (2.10)\n",
      "Requirement already satisfied: oauthlib>=3.0.0 in /Users/teddys2k/anaconda3/lib/python3.8/site-packages (from requests-oauthlib>=0.7.0->google-auth-oauthlib<0.5,>=0.4.1->tensorboard<2.9,>=2.8->tensorflow==2.8.0) (3.2.1)\n",
      "Requirement already satisfied: pyqtwebengine==5.13 in /Users/teddys2k/anaconda3/lib/python3.8/site-packages (5.13.0)\n",
      "Requirement already satisfied: PyQt5>=5.13 in /Users/teddys2k/anaconda3/lib/python3.8/site-packages (from pyqtwebengine==5.13) (5.15.7)\n",
      "Requirement already satisfied: PyQt5-Qt5>=5.15.0 in /Users/teddys2k/anaconda3/lib/python3.8/site-packages (from PyQt5>=5.13->pyqtwebengine==5.13) (5.15.2)\n",
      "Requirement already satisfied: PyQt5-sip<13,>=12.11 in /Users/teddys2k/anaconda3/lib/python3.8/site-packages (from PyQt5>=5.13->pyqtwebengine==5.13) (12.11.0)\n",
      "Requirement already satisfied: wget in /Users/teddys2k/anaconda3/lib/python3.8/site-packages (3.2)\n"
     ]
    }
   ],
   "source": [
    "!git clone --depth 1 https://github.com/tensorflow/models\n",
    "!pip install protobuf\n",
    "!pip install absl-py\n",
    "!pip install tensorflow==2.8.0\n",
    "!pip install pyqtwebengine==5.13\n",
    "!pip install wget\n",
    "import re\n",
    "import os\n",
    "os.environ['KMP_DUPLICATE_LIB_OK']='True'"
   ]
  },
  {
   "cell_type": "code",
   "execution_count": 2,
   "id": "9b688dc9",
   "metadata": {},
   "outputs": [],
   "source": [
    "# Run Model Bulider Test file, just to verify everything's working properly\n",
    "!python models/research/object_detection/builders/model_builder_tf2_test.py"
   ]
  },
  {
   "cell_type": "code",
   "execution_count": 3,
   "id": "3a5ab4ac",
   "metadata": {},
   "outputs": [],
   "source": [
    "%%bash\n",
    "cat <<EOF >> labelmap.txt\n",
    "biker\n",
    "car\n",
    "pedestrian\n",
    "trafficLight\n",
    "trafficLight-Green\n",
    "trafficLight-GreenLeft\n",
    "trafficLight-Red\n",
    "trafficLight-RedLeft\n",
    "trafficLight-Yellow\n",
    "trafficLight-YellowLeft\n",
    "truck\n",
    "EOF"
   ]
  },
  {
   "cell_type": "code",
   "execution_count": 4,
   "id": "287a9aac",
   "metadata": {},
   "outputs": [
    {
     "name": "stdout",
     "output_type": "stream",
     "text": [
      "Traceback (most recent call last):\n",
      "  File \"/Users/teddys2k/anaconda3/lib/python3.8/runpy.py\", line 194, in _run_module_as_main\n",
      "    return _run_code(code, main_globals, None,\n",
      "  File \"/Users/teddys2k/anaconda3/lib/python3.8/runpy.py\", line 87, in _run_code\n",
      "    exec(code, run_globals)\n",
      "  File \"/Users/teddys2k/anaconda3/lib/python3.8/site-packages/wget.py\", line 568, in <module>\n",
      "    filename = download(args[0], out=options.output)\n",
      "  File \"/Users/teddys2k/anaconda3/lib/python3.8/site-packages/wget.py\", line 526, in download\n",
      "    (tmpfile, headers) = ulib.urlretrieve(binurl, tmpfile, callback)\n",
      "  File \"/Users/teddys2k/anaconda3/lib/python3.8/urllib/request.py\", line 247, in urlretrieve\n",
      "    with contextlib.closing(urlopen(url, data)) as fp:\n",
      "  File \"/Users/teddys2k/anaconda3/lib/python3.8/urllib/request.py\", line 222, in urlopen\n",
      "    return opener.open(url, data, timeout)\n",
      "  File \"/Users/teddys2k/anaconda3/lib/python3.8/urllib/request.py\", line 531, in open\n",
      "    response = meth(req, response)\n",
      "  File \"/Users/teddys2k/anaconda3/lib/python3.8/urllib/request.py\", line 640, in http_response\n",
      "    response = self.parent.error(\n",
      "  File \"/Users/teddys2k/anaconda3/lib/python3.8/urllib/request.py\", line 569, in error\n",
      "    return self._call_chain(*args)\n",
      "  File \"/Users/teddys2k/anaconda3/lib/python3.8/urllib/request.py\", line 502, in _call_chain\n",
      "    result = func(*args)\n",
      "  File \"/Users/teddys2k/anaconda3/lib/python3.8/urllib/request.py\", line 649, in http_error_default\n",
      "    raise HTTPError(req.full_url, code, msg, hdrs, fp)\n",
      "urllib.error.HTTPError: HTTP Error 404: Not Found\n"
     ]
    }
   ],
   "source": [
    "# Download data conversion scripts\n",
    "!python -m wget https://raw.githubusercontent.com/EdjeElectronics/TensorFlow-Lite-Object-Detection-on-Android-and-Raspberry-Pi/master/util_scripts/cre"
   ]
  },
  {
   "cell_type": "code",
   "execution_count": 5,
   "id": "3fb503a1",
   "metadata": {},
   "outputs": [
    {
     "name": "stdout",
     "output_type": "stream",
     "text": [
      "Successfully converted xml to csv.\n",
      "Successfully converted xml to csv.\n"
     ]
    }
   ],
   "source": [
    "!python3 create_csv.py"
   ]
  },
  {
   "cell_type": "code",
   "execution_count": 6,
   "id": "763ec8a2",
   "metadata": {},
   "outputs": [],
   "source": [
    "train_record_fname = '/train.tfrecord'\n",
    "val_record_fname = '/val.tfrecord'\n",
    "label_map_pbtxt_fname = '/labelmap.pbtxt'"
   ]
  },
  {
   "cell_type": "code",
   "execution_count": 7,
   "id": "d7af6abd",
   "metadata": {},
   "outputs": [],
   "source": [
    "# Change the chosen_model variable to deploy different models available in the TF2 object detection zoo\n",
    "chosen_model = 'ssd-mobilenet-v2'\n",
    "\n",
    "MODELS_CONFIG = {\n",
    "    'ssd-mobilenet-v2': {\n",
    "        'model_name': 'ssd_mobilenet_v2_320x320_coco17_tpu-8',\n",
    "        'base_pipeline_file': 'ssd_mobilenet_v2_320x320_coco17_tpu-8.config',\n",
    "        'pretrained_checkpoint': 'ssd_mobilenet_v2_320x320_coco17_tpu-8.tar.gz',\n",
    "    },\n",
    "    'efficientdet-d0': {\n",
    "        'model_name': 'efficientdet_d0_coco17_tpu-32',\n",
    "        'base_pipeline_file': 'ssd_efficientdet_d0_512x512_coco17_tpu-8.config',\n",
    "        'pretrained_checkpoint': 'efficientdet_d0_coco17_tpu-32.tar.gz',\n",
    "    },\n",
    "    'ssd-mobilenet-v2-fpnlite-320': {\n",
    "        'model_name': 'ssd_mobilenet_v2_fpnlite_320x320_coco17_tpu-8',\n",
    "        'base_pipeline_file': 'ssd_mobilenet_v2_fpnlite_320x320_coco17_tpu-8.config',\n",
    "        'pretrained_checkpoint': 'ssd_mobilenet_v2_fpnlite_320x320_coco17_tpu-8.tar.gz',\n",
    "    },\n",
    "    # The centernet model isn't working as of 9/10/22\n",
    "    #'centernet-mobilenet-v2': {\n",
    "    #    'model_name': 'centernet_mobilenetv2fpn_512x512_coco17_od',\n",
    "    #    'base_pipeline_file': 'pipeline.config',\n",
    "    #    'pretrained_checkpoint': 'centernet_mobilenetv2fpn_512x512_coco17_od.tar.gz',\n",
    "    #}\n",
    "}\n",
    "\n",
    "model_name = MODELS_CONFIG[chosen_model]['model_name']\n",
    "pretrained_checkpoint = MODELS_CONFIG[chosen_model]['pretrained_checkpoint']\n",
    "base_pipeline_file = MODELS_CONFIG[chosen_model]['base_pipeline_file']"
   ]
  },
  {
   "cell_type": "code",
   "execution_count": 8,
   "id": "ef9e9514",
   "metadata": {},
   "outputs": [
    {
     "name": "stdout",
     "output_type": "stream",
     "text": [
      "/Users/teddys2k/Desktop/Tensorflow-model\n",
      "Setup.ipynb     create_csv.py   labelmap.txt\n",
      "Untitled.ipynb  \u001b[34mimages\u001b[m\u001b[m/         \u001b[34mmodels\u001b[m\u001b[m/\n"
     ]
    }
   ],
   "source": [
    "%cd /Users/teddys2k/Desktop/Tensorflow-model\n",
    "%ls"
   ]
  },
  {
   "cell_type": "code",
   "execution_count": 9,
   "id": "24327a10",
   "metadata": {},
   "outputs": [
    {
     "name": "stdout",
     "output_type": "stream",
     "text": [
      "/Users/teddys2k/Desktop/Tensorflow-model/models/mymodel\n",
      "100% [....................................................] 46042990 / 46042990\n",
      "Saved under ssd_mobilenet_v2_320x320_coco17_tpu-8.tar (15).gz\n",
      "100% [............................................................] 4484 / 4484\n",
      "Saved under ssd_mobilenet_v2_320x320_coco17_tpu-8 (15).config\n"
     ]
    }
   ],
   "source": [
    "# Download pre-trained model weights\n",
    "%cd /Users/teddys2k/Desktop/Tensorflow-model/models/mymodel\n",
    "import tarfile\n",
    "download_tar = 'http://download.tensorflow.org/models/object_detection/tf2/20200711/' + pretrained_checkpoint\n",
    "if chosen_model == 'centernet-mobilenet-v2':\n",
    "  download_tar = 'http://download.tensorflow.org/models/object_detection/tf2/20210210/' + pretrained_checkpoint\n",
    "\n",
    "!python -m wget {download_tar}\n",
    "tar = tarfile.open(pretrained_checkpoint)\n",
    "tar.extractall()\n",
    "tar.close()\n",
    "\n",
    "# Download training configuration file for model\n",
    "download_config = 'https://raw.githubusercontent.com/tensorflow/models/master/research/object_detection/configs/tf2/' + base_pipeline_file\n",
    "if chosen_model == 'centernet-mobilenet-v2':\n",
    "  !cp models/mymodel/centernet_mobilenetv2_fpn_od/pipeline.config /Users/teddys2k/Desktop/Tensorflow-model/models/mymodel\n",
    "\n",
    "else:\n",
    "  !python -m wget {download_config}\n",
    "#!wget {download_config}"
   ]
  },
  {
   "cell_type": "code",
   "execution_count": 10,
   "id": "5ae61e62",
   "metadata": {},
   "outputs": [],
   "source": [
    "# Set training parameters for the model\n",
    "num_steps = 40000\n",
    "batch_size = 8"
   ]
  },
  {
   "cell_type": "code",
   "execution_count": null,
   "id": "b83b66f1",
   "metadata": {},
   "outputs": [],
   "source": [
    "# Set file locations and get number of classes for config file\n",
    "pipeline_fname = '/Users/teddys2k/Desktop/Tensorflow-model/models/mymodel/' + base_pipeline_file\n",
    "fine_tune_checkpoint = '/Users/teddys2k/Desktop/Tensorflow-model/models/mymodel/' + model_name + '/checkpoint/ckpt-0'\n",
    "\n",
    "def get_num_classes(pbtxt_fname):\n",
    "    from object_detection.utils import label_map_util\n",
    "    label_map = label_map_util.load_labelmap(pbtxt_fname)\n",
    "    categories = label_map_util.convert_label_map_to_categories(\n",
    "        label_map, max_num_classes=90, use_display_name=True)\n",
    "    category_index = label_map_util.create_category_index(categories)\n",
    "    return len(category_index.keys())\n",
    "num_classes = get_num_classes(label_map_pbtxt_fname)\n",
    "print('Total classes:', num_classes)"
   ]
  },
  {
   "cell_type": "code",
   "execution_count": null,
   "id": "a6267f9f",
   "metadata": {},
   "outputs": [],
   "source": [
    "# Create custom configuration file by writing the dataset, model checkpoint, and training parameters into the base pipeline file\n",
    "import re\n",
    "\n",
    "%cd /Users/teddys2k/Desktop/Tensorflow-model/models/mymodel\n",
    "print('writing custom configuration file')\n",
    "\n",
    "with open(pipeline_fname) as f:\n",
    "    s = f.read()\n",
    "with open('pipeline_file.config', 'w') as f:\n",
    "    \n",
    "    # Set fine_tune_checkpoint path\n",
    "    s = re.sub('fine_tune_checkpoint: \".*?\"',\n",
    "               'fine_tune_checkpoint: \"{}\"'.format(fine_tune_checkpoint), s)\n",
    "    \n",
    "    # Set tfrecord files for train and test datasets\n",
    "    s = re.sub(\n",
    "        '(input_path: \".*?)(PATH_TO_BE_CONFIGURED/train)(.*?\")', 'input_path: \"{}\"'.format(train_record_fname), s)\n",
    "    s = re.sub(\n",
    "        '(input_path: \".*?)(PATH_TO_BE_CONFIGURED/val)(.*?\")', 'input_path: \"{}\"'.format(val_record_fname), s)\n",
    "\n",
    "    # Set label_map_path\n",
    "    s = re.sub(\n",
    "        'label_map_path: \".*?\"', 'label_map_path: \"{}\"'.format(label_map_pbtxt_fname), s)\n",
    "\n",
    "    # Set batch_size\n",
    "    s = re.sub('batch_size: [0-9]+',\n",
    "               'batch_size: {}'.format(batch_size), s)\n",
    "\n",
    "    # Set training steps, num_steps\n",
    "    s = re.sub('num_steps: [0-9]+',\n",
    "               'num_steps: {}'.format(num_steps), s)\n",
    "    \n",
    "    # Set number of classes num_classes\n",
    "    s = re.sub('num_classes: [0-9]+',\n",
    "               'num_classes: {}'.format(num_classes), s)\n",
    "\n",
    "    # Change fine-tune checkpoint type from \"classification\" to \"detection\"\n",
    "    s = re.sub(\n",
    "        'fine_tune_checkpoint_type: \"classification\"', 'fine_tune_checkpoint_type: \"{}\"'.format('detection'), s)\n",
    "    \n",
    "    # If using ssd-mobilenet-v2, reduce learning rate (because it's too high in the default config file)\n",
    "    if chosen_model == 'ssd-mobilenet-v2':\n",
    "      s = re.sub('learning_rate_base: .8',\n",
    "                 'learning_rate_base: .08', s)\n",
    "      \n",
    "      s = re.sub('warmup_learning_rate: 0.13333',\n",
    "                 'warmup_learning_rate: .026666', s)\n",
    "    \n",
    "    # If using efficientdet-d0, use fixed_shape_resizer instead of keep_aspect_ratio_resizer (because it isn't supported by TFLite)\n",
    "    if chosen_model == 'efficientdet-d0':\n",
    "      s = re.sub('keep_aspect_ratio_resizer', 'fixed_shape_resizer', s)\n",
    "      s = re.sub('pad_to_max_dimension: true', '', s)\n",
    "      s = re.sub('min_dimension', 'height', s)\n",
    "      s = re.sub('max_dimension', 'width', s)\n",
    "\n",
    "    f.write(s)"
   ]
  },
  {
   "cell_type": "code",
   "execution_count": null,
   "id": "13ff7268",
   "metadata": {},
   "outputs": [],
   "source": []
  }
 ],
 "metadata": {
  "kernelspec": {
   "display_name": "Python 3",
   "language": "python",
   "name": "python3"
  },
  "language_info": {
   "codemirror_mode": {
    "name": "ipython",
    "version": 3
   },
   "file_extension": ".py",
   "mimetype": "text/x-python",
   "name": "python",
   "nbconvert_exporter": "python",
   "pygments_lexer": "ipython3",
   "version": "3.8.8"
  }
 },
 "nbformat": 4,
 "nbformat_minor": 5
}
